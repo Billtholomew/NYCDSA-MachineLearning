{
 "cells": [
  {
   "cell_type": "code",
   "execution_count": 12,
   "metadata": {
    "collapsed": false
   },
   "outputs": [
    {
     "name": "stdout",
     "output_type": "stream",
     "text": [
      "0\n"
     ]
    }
   ],
   "source": [
    "import os, shutil\n",
    "\n",
    "rootdir = 'D:/images'\n",
    "lvldirs = {'high': 'D:/images_split/high_images',\n",
    "           'medium': 'D:/images_split/medium_images',\n",
    "           'low': 'D:/images_split/low_images'}\n",
    "\n",
    "listing_photos = {}\n",
    "\n",
    "with open('C:/Users/ceo/Desktop/MachineLearning/images.csv', 'r+') as infile:\n",
    "    infile.readline()\n",
    "    for line in infile.readlines():\n",
    "        line = line.split(',')\n",
    "        listing_id = line[0]\n",
    "        photos = line[1].split('|')\n",
    "        interest_level = line[2].replace('\\n','')\n",
    "        listing_photos[listing_id] = (interest_level, photos)    \n",
    "\n",
    "cntr = 0\n",
    "\n",
    "import re\n",
    "\n",
    "for dirpath, dirnames, _ in os.walk(rootdir):\n",
    "    for dname in dirnames:\n",
    "        if dname in listing_photos.keys():\n",
    "            lvl, pps = listing_photos[dname]\n",
    "            imdir = rootdir + '/' + dname\n",
    "            try:\n",
    "                files = os.listdir(imdir)\n",
    "            except:\n",
    "                continue\n",
    "            #print imdir\n",
    "            for f in files:\n",
    "                lvldir = lvldirs[lvl]\n",
    "                #print 'moving',imdir + '/' + f,'to',lvldir\n",
    "                shutil.copy(imdir + '/' + f, lvldir)\n",
    "\n",
    "print cntr"
   ]
  },
  {
   "cell_type": "code",
   "execution_count": 13,
   "metadata": {
    "collapsed": false
   },
   "outputs": [
    {
     "name": "stdout",
     "output_type": "stream",
     "text": [
      "49352\n"
     ]
    }
   ],
   "source": [
    "print len(listing_photos.keys())"
   ]
  }
 ],
 "metadata": {
  "kernelspec": {
   "display_name": "Python 2",
   "language": "python",
   "name": "python2"
  },
  "language_info": {
   "codemirror_mode": {
    "name": "ipython",
    "version": 2
   },
   "file_extension": ".py",
   "mimetype": "text/x-python",
   "name": "python",
   "nbconvert_exporter": "python",
   "pygments_lexer": "ipython2",
   "version": "2.7.13"
  }
 },
 "nbformat": 4,
 "nbformat_minor": 2
}
