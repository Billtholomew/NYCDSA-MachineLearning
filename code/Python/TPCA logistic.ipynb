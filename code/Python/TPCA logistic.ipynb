{
 "cells": [
  {
   "cell_type": "code",
   "execution_count": 2,
   "metadata": {
    "collapsed": true
   },
   "outputs": [],
   "source": [
    "# code for logistic regression\n",
    "\n",
    "import pandas as pd\n",
    "import numpy as np\n",
    "import json\n",
    "import csv\n",
    "\n",
    "from sklearn import linear_model\n",
    "from sklearn.preprocessing import LabelEncoder\n",
    "from sklearn.metrics import log_loss"
   ]
  },
  {
   "cell_type": "code",
   "execution_count": 3,
   "metadata": {
    "collapsed": true
   },
   "outputs": [],
   "source": [
    "df = pd.read_json('yourpath/train.json')"
   ]
  },
  {
   "cell_type": "code",
   "execution_count": 4,
   "metadata": {
    "collapsed": false
   },
   "outputs": [
    {
     "name": "stdout",
     "output_type": "stream",
     "text": [
      "3.76120011569 15.3173632597\n"
     ]
    }
   ],
   "source": [
    "le=LabelEncoder()\n",
    "mycols = ['bathrooms', 'bedrooms', 'building_id', 'latitude', 'longitude', 'manager_id', \\\n",
    "                                                              'price', 'interest_level']\n",
    "d=df.loc[:, mycols]\n",
    "\n",
    "d.price = np.log(d.price)\n",
    "d.building_id = le.fit_transform(d.building_id)\n",
    "d.manager_id = le.fit_transform(d.manager_id)\n",
    "\n",
    "y = d.loc[:, 'interest_level']\n",
    "y = le.fit_transform(y)\n",
    "\n",
    "print min(d.price), max(d.price)"
   ]
  },
  {
   "cell_type": "code",
   "execution_count": 5,
   "metadata": {
    "collapsed": false
   },
   "outputs": [
    {
     "name": "stdout",
     "output_type": "stream",
     "text": [
      "0.650632193224\n",
      "[array([[  2.26513369e-01,   6.78565584e-01,   1.06437588e-04,\n",
      "         -4.92785082e-02,  -3.66350159e-01,  -5.23551156e-05,\n",
      "         -3.47762858e+00],\n",
      "       [ -1.68144612e-01,  -6.17698604e-01,  -1.50601154e-04,\n",
      "          7.05298508e-03,   2.74802254e-01,  -2.63436091e-06,\n",
      "          2.70907793e+00],\n",
      "       [ -1.14225498e-02,   4.25120236e-01,   1.29242476e-04,\n",
      "          2.77565666e-02,  -1.34009608e-01,   2.53296499e-05,\n",
      "         -1.61667342e+00]]), array([ 0.00555604, -0.00822092,  0.00303156])]\n"
     ]
    }
   ],
   "source": [
    "logit = linear_model.LogisticRegression(C=1e6, class_weight='balanced', penalty = 'l2', \\\n",
    "                                            max_iter = 1e3, solver = 'liblinear')  #, multi_class = 'multinomial')\n",
    "logit.fit(d.iloc[:, :-1], y)\n",
    "\n",
    "## The score (accuracy for classification problems):\n",
    "print logit.score(d.iloc[:, :-1], y)\n",
    "\n",
    "print [logit.coef_, logit.intercept_]"
   ]
  },
  {
   "cell_type": "code",
   "execution_count": 6,
   "metadata": {
    "collapsed": false
   },
   "outputs": [],
   "source": [
    "a = logit.predict_proba(d.iloc[:, :-1])"
   ]
  },
  {
   "cell_type": "code",
   "execution_count": 56,
   "metadata": {
    "collapsed": true
   },
   "outputs": [],
   "source": [
    "import csv\n",
    "\n",
    "with open(\"logistic.csv\", \"wb\") as f:\n",
    "    writer = csv.writer(f)\n",
    "    writer.writerows(a)"
   ]
  },
  {
   "cell_type": "code",
   "execution_count": 9,
   "metadata": {
    "collapsed": false
   },
   "outputs": [],
   "source": [
    "# computing log loss\n",
    "ll = log_loss(d.iloc[:, -1], a)"
   ]
  },
  {
   "cell_type": "code",
   "execution_count": 10,
   "metadata": {
    "collapsed": false
   },
   "outputs": [
    {
     "data": {
      "text/plain": [
       "0.8086483084591477"
      ]
     },
     "execution_count": 10,
     "metadata": {},
     "output_type": "execute_result"
    }
   ],
   "source": [
    "ll"
   ]
  }
 ],
 "metadata": {
  "anaconda-cloud": {},
  "kernelspec": {
   "display_name": "Python [default]",
   "language": "python",
   "name": "python2"
  },
  "language_info": {
   "codemirror_mode": {
    "name": "ipython",
    "version": 2
   },
   "file_extension": ".py",
   "mimetype": "text/x-python",
   "name": "python",
   "nbconvert_exporter": "python",
   "pygments_lexer": "ipython2",
   "version": "2.7.12"
  }
 },
 "nbformat": 4,
 "nbformat_minor": 1
}
